{
 "cells": [
  {
   "cell_type": "code",
   "execution_count": 1,
   "metadata": {},
   "outputs": [
    {
     "data": {
      "text/plain": [
       "Index(['ID', '病案号', '病人姓名', '年龄', 'tel', '主诊断（1oc2.EC 3.CC4.sarcoma）',\n",
       "       '分化（1高分化2中分化3低分化4无分化）', '病理', '分期', '手术', '手术方式(1.开腹 2lap)', '病人姓名.1',\n",
       "       '手术日期', '手术时长（min）', '术中输血1.有0无', '术中输血量', '术中出血（ml）', '病人姓名.2', '冠心病',\n",
       "       '高血压', '高血脂', '血栓病史', '糖尿病', 'R', 'k', 'angle', 'MA', 'CI', 'G', 'EPL',\n",
       "       'PT', 'INR', 'APTT', 'Fbg', 'D-D', 'T-T', '病人姓名.3', 'R.1', 'k.1',\n",
       "       'angle.1', 'MA.1', 'CI.1', 'G.1', 'EPL.1', 'PT.1', 'INR.1', 'APTT.1',\n",
       "       'FbG', 'D-D.1', 'T-T.1', 'PC', '术前超声有无血栓(1有0无)', '术后超声', 'VTE', 'VTE时间',\n",
       "       'PE', 'PE时间', 'DVT', 'DVT时间', '处理（1.2.3.）', '转归（1.*2.*3.死亡）', '其他'],\n",
       "      dtype='object')"
      ]
     },
     "execution_count": 1,
     "metadata": {},
     "output_type": "execute_result"
    }
   ],
   "source": [
    "import os\n",
    "import numpy as np\n",
    "import pandas as pd\n",
    "import gc\n",
    "import time\n",
    "# from lightgbm import LGBMClassifier\n",
    "from sklearn.metrics import roc_auc_score, roc_curve\n",
    "from sklearn.model_selection import KFold, StratifiedKFold\n",
    "import matplotlib.pyplot as plt\n",
    "import warnings\n",
    "import numpy as np\n",
    "import re\n",
    "PATH = './'\n",
    "\n",
    "total = pd.read_csv('./TEG 7-2.csv')\n",
    "total.columns"
   ]
  },
  {
   "cell_type": "code",
   "execution_count": 2,
   "metadata": {},
   "outputs": [
    {
     "data": {
      "text/plain": [
       "年龄                             True\n",
       "主诊断（1oc2.EC 3.CC4.sarcoma）     True\n",
       "分化（1高分化2中分化3低分化4无分化）           True\n",
       "手术                             True\n",
       "手术时长（min）                      True\n",
       "术中输血1.有0无                      True\n",
       "术中出血（ml）                       True\n",
       "冠心病                            True\n",
       "高血压                            True\n",
       "高血脂                            True\n",
       "血栓病史                           True\n",
       "糖尿病                            True\n",
       "R                              True\n",
       "k                              True\n",
       "angle                          True\n",
       "MA                             True\n",
       "CI                             True\n",
       "G                              True\n",
       "EPL                            True\n",
       "PT                             True\n",
       "INR                            True\n",
       "APTT                           True\n",
       "Fbg                            True\n",
       "D-D                            True\n",
       "T-T                            True\n",
       "R.1                            True\n",
       "k.1                            True\n",
       "angle.1                        True\n",
       "MA.1                           True\n",
       "CI.1                           True\n",
       "G.1                            True\n",
       "EPL.1                          True\n",
       "PT.1                           True\n",
       "INR.1                          True\n",
       "APTT.1                         True\n",
       "FbG                            True\n",
       "D-D.1                          True\n",
       "T-T.1                          True\n",
       "术前超声有无血栓(1有0无)                False\n",
       "l                             False\n",
       "dtype: bool"
      ]
     },
     "execution_count": 2,
     "metadata": {},
     "output_type": "execute_result"
    }
   ],
   "source": [
    "use = ['年龄', '主诊断（1oc2.EC 3.CC4.sarcoma）', '分化（1高分化2中分化3低分化4无分化）', '手术', '手术时长（min）',\n",
    "       '术中输血1.有0无', '术中出血（ml）', '冠心病', '高血压', '高血脂', '血栓病史', '糖尿病', 'R', 'k', 'angle', 'MA',\n",
    "       'CI', 'G', 'EPL', 'PT', 'INR', 'APTT', 'Fbg', 'D-D', 'T-T', 'R.1', 'k.1', 'angle.1', 'MA.1', 'CI.1', 'G.1',\n",
    "       'EPL.1', 'PT.1', 'INR.1', 'APTT.1', 'FbG', 'D-D.1', 'T-T.1', '术前超声有无血栓(1有0无)', '术后超声']\n",
    "\n",
    "df = total[use].rename(columns={'术后超声':'l'})\n",
    "\n",
    "df['R'].replace(' ', np.nan, inplace=True)\n",
    "df['R'] = df['R'].apply(lambda x: float(x))\n",
    "df['术前超声有无血栓(1有0无)'] = df['术前超声有无血栓(1有0无)'].fillna(3).astype('int8')\n",
    "def f(x):\n",
    "    x = re.sub(' ', '3', x)\n",
    "    return int(x)\n",
    "df['l'] = df['l'].fillna('3').apply(f)\n",
    "df.shape"
   ]
  },
  {
   "cell_type": "code",
   "execution_count": 3,
   "metadata": {},
   "outputs": [
    {
     "data": {
      "text/plain": [
       "array(['1', '2', '3', nan, '外阴癌', '原发灶不明'], dtype=object)"
      ]
     },
     "execution_count": 3,
     "metadata": {},
     "output_type": "execute_result"
    }
   ],
   "source": [
    "df['主诊断（1oc2.EC 3.CC4.sarcoma）'].unique()"
   ]
  },
  {
   "cell_type": "code",
   "execution_count": 4,
   "metadata": {},
   "outputs": [
    {
     "data": {
      "text/plain": [
       "['D-D',\n",
       " 'angle.1',\n",
       " 'INR.1',\n",
       " '手术时长（min）',\n",
       " 'D-D.1',\n",
       " '年龄',\n",
       " 'EPL',\n",
       " 'T-T',\n",
       " 'R.1',\n",
       " 'R',\n",
       " 'INR',\n",
       " 'FbG',\n",
       " 'APTT.1',\n",
       " 'PT.1',\n",
       " 'CI',\n",
       " 'MA.1',\n",
       " 'MA',\n",
       " 'Fbg',\n",
       " 'PT',\n",
       " 'G',\n",
       " 'k.1',\n",
       " 'APTT',\n",
       " '术中出血（ml）',\n",
       " 'angle',\n",
       " 'CI.1',\n",
       " 'G.1',\n",
       " 'T-T.1',\n",
       " 'EPL.1',\n",
       " 'k']"
      ]
     },
     "execution_count": 4,
     "metadata": {},
     "output_type": "execute_result"
    }
   ],
   "source": [
    "cat_feats = ['主诊断（1oc2.EC 3.CC4.sarcoma）']\n",
    "for col in cat_feats:\n",
    "    df[col],_ = pd.factorize(df[col])\n",
    "cat_feats = ['主诊断（1oc2.EC 3.CC4.sarcoma）', '分化（1高分化2中分化3低分化4无分化）', '手术',\n",
    "             '术中输血1.有0无', '冠心病', '高血压', '高血脂', '血栓病史', '糖尿病', '术前超声有无血栓(1有0无)']\n",
    "num_feats = list(set(df.columns) - set(cat_feats + ['l']))\n",
    "len(num_feats)"
   ]
  },
  {
   "cell_type": "code",
   "execution_count": 7,
   "metadata": {},
   "outputs": [
    {
     "data": {
      "text/plain": [
       "1653"
      ]
     },
     "execution_count": 7,
     "metadata": {},
     "output_type": "execute_result"
    }
   ],
   "source": [
    "def ratio_name(col1, col2):\n",
    "    return col1 + '_divide_' + col2\n",
    "def ratio(df, col1, col2):\n",
    "    return df[col1] / (df[col2] + 1e-3)\n",
    "def times_name(col1, col2):\n",
    "    return col1 + '_times_' + col2\n",
    "def times(df, col1, col2):\n",
    "    return df[col1] * df[col2]\n",
    "def plus_name(col1, col2):\n",
    "    return col1 + '_add_' + col2\n",
    "def plus(df, col1, col2):\n",
    "    return df[col1] + df[col2]\n",
    "def minus_name(col1, col2):\n",
    "    return col1 + '_minus_' + col2\n",
    "def minus(df, col1, col2):\n",
    "    return df[col1] - df[col2]\n",
    "\n",
    "\n",
    "total_num_feats = num_feats.copy()\n",
    "for x in num_feats:\n",
    "    for y in num_feats:\n",
    "        if ratio_name(y, x) not in df.columns and x != y:\n",
    "            total_num_feats.append(ratio_name(x, y))\n",
    "            df[ratio_name(x, y)] = ratio(df, x, y)\n",
    "            \n",
    "            total_num_feats.append(times_name(x, y))\n",
    "            df[times_name(x, y)] = times(df, x, y)\n",
    "            \n",
    "            total_num_feats.append(plus_name(x, y))\n",
    "            df[plus_name(x, y)] = plus(df, x, y)\n",
    "            \n",
    "            total_num_feats.append(minus_name(x, y))\n",
    "            df[minus_name(x, y)] = minus(df, x, y)\n",
    "len(total_num_feats)"
   ]
  },
  {
   "cell_type": "code",
   "execution_count": 56,
   "metadata": {},
   "outputs": [
    {
     "data": {
      "text/plain": [
       "{25, 57}"
      ]
     },
     "execution_count": 56,
     "metadata": {},
     "output_type": "execute_result"
    }
   ],
   "source": [
    "from sklearn.cross_validation import train_test_split\n",
    "pos_idx = df[df['l'] == 1].index.values.tolist()\n",
    "neg_idx = df[df['l'] == 0].index.values.tolist()\n",
    "idx = pos_idx + neg_idx\n",
    "test_idx = np.random.choice(pos_idx, 2, replace=False).tolist() + np.random.choice(neg_idx, 22, replace=False).tolist()\n",
    "train_idx = list(set(idx) - set(test_idx))\n",
    "train = df.loc[train_idx]\n",
    "test = df.loc[test_idx]\n",
    "set(test_idx) & set(pos_idx)"
   ]
  },
  {
   "cell_type": "code",
   "execution_count": null,
   "metadata": {},
   "outputs": [],
   "source": [
    "lgbm_train = lgbm.Dataset(data=train,\n",
    "                          label=target,\n",
    "                          categorical_feature=cat_feats,\n",
    "                          free_raw_data=False)\n",
    "lgbm_params = {\n",
    "    'task': 'train',\n",
    "    'boosting_type': 'gbdt',\n",
    "    'objective': 'binary',\n",
    "    'metric': 'auc',\n",
    "    'learning_rate': 0.02,\n",
    "    'num_iteration': 4000,\n",
    "    'num_threads': 8,\n",
    "\n",
    "    'num_leaves': int(round(44.368535336628419)),\n",
    "    'feature_fraction': 0.15,\n",
    "    'bagging_fraction': 0.94901525271474951,\n",
    "    'max_depth': int(round(8.0430115561596267)),\n",
    "    'lambda_l1': 0.30680079516647751,\n",
    "    'lambda_l2': 0.079128660903201031,\n",
    "    'min_split_gain': 0.054005067457890979,\n",
    "    'min_child_weight': 15.172643147364937}\n",
    "cv_results = lgbm.cv(train_set=lgbm_train,\n",
    "                     params=lgbm_params,\n",
    "                     nfold=5,\n",
    "                     early_stopping_rounds=150,\n",
    "                     verbose_eval=100,\n",
    "                     metrics=['auc'])\n",
    "\n",
    "optimum_boost_rounds = np.argmax(cv_results['auc-mean'])\n",
    "print('Optimum boost rounds = {}'.format(optimum_boost_rounds))\n",
    "print('Best CV result = {}'.format(np.max(cv_results['auc-mean'])))"
   ]
  },
  {
   "cell_type": "code",
   "execution_count": null,
   "metadata": {},
   "outputs": [],
   "source": [
    "clf = lgbm.train(train_set=lgbm_train,\n",
    "                 params=lgbm_params,\n",
    "                 num_boost_round=optimum_boost_rounds,\n",
    "                verbose_eval=100)\n",
    "\n",
    "\"\"\" Predict on test set and create submission \"\"\"\n",
    "y_pred = clf.predict(test)\n",
    "out_df = pd.DataFrame({'SK_ID_CURR': test_df['SK_ID_CURR'], 'TARGET': y_pred})"
   ]
  },
  {
   "cell_type": "code",
   "execution_count": null,
   "metadata": {},
   "outputs": [],
   "source": [
    "x = [x for x in zip(clf.feature_name(), clf.feature_importance('gain'))]\n",
    "x.sort(key=lambda x: x[1], reverse=True)\n",
    "x = [(i, j) for i, j in enumerate(x)]\n",
    "x"
   ]
  },
  {
   "cell_type": "code",
   "execution_count": null,
   "metadata": {},
   "outputs": [],
   "source": [
    "x = [x for x in zip(clf.feature_name(), clf.feature_importance('split'))]\n",
    "x.sort(key=lambda x: x[1], reverse=True)\n",
    "x = [(i, j) for i, j in enumerate(x)]\n",
    "x"
   ]
  }
 ],
 "metadata": {
  "kernelspec": {
   "display_name": "Python 3",
   "language": "python",
   "name": "python3"
  },
  "language_info": {
   "codemirror_mode": {
    "name": "ipython",
    "version": 3
   },
   "file_extension": ".py",
   "mimetype": "text/x-python",
   "name": "python",
   "nbconvert_exporter": "python",
   "pygments_lexer": "ipython3",
   "version": "3.6.3"
  }
 },
 "nbformat": 4,
 "nbformat_minor": 2
}
